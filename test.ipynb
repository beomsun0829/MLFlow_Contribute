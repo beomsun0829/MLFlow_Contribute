{
 "cells": [
  {
   "cell_type": "code",
   "execution_count": 2,
   "metadata": {},
   "outputs": [],
   "source": [
    "import sys\n",
    "import os\n",
    "sys.path.insert(0, 'D:\\\\PROGRAMMING\\\\mlflow')"
   ]
  },
  {
   "cell_type": "code",
   "execution_count": 3,
   "metadata": {},
   "outputs": [
    {
     "name": "stdout",
     "output_type": "stream",
     "text": [
      "D:\\PROGRAMMING\\mlflow\\mlflow\n"
     ]
    }
   ],
   "source": [
    "import mlflow\n",
    "import mlflow.pytorch\n",
    "from dataclasses import dataclass, asdict\n",
    "\n",
    "import torch\n",
    "import torch.nn as nn\n",
    "import numpy as np\n",
    "\n",
    "from time import sleep\n",
    "\n",
    "print(os.path.dirname(mlflow.__file__))"
   ]
  },
  {
   "cell_type": "code",
   "execution_count": 5,
   "metadata": {},
   "outputs": [],
   "source": [
    "@dataclass\n",
    "class Config:\n",
    "    EPOCHS: int = 100\n",
    "    LEARNING_RATE: int = 0.1\n",
    "\n",
    "CONFIG = Config()"
   ]
  },
  {
   "cell_type": "code",
   "execution_count": 6,
   "metadata": {},
   "outputs": [
    {
     "name": "stderr",
     "output_type": "stream",
     "text": [
      "2024/08/04 01:05:44 INFO mlflow.tracking.fluent: Experiment with name 'Test Experiment' does not exist. Creating a new experiment.\n"
     ]
    }
   ],
   "source": [
    "mlflow.set_experiment('Test Experiment')\n",
    "def mlflow_run_decorator(run_name=None):\n",
    "    def decorator(func):\n",
    "        def wrapper(*args, **kwargs):\n",
    "            mlflow.start_run(run_name=run_name)\n",
    "            try:\n",
    "                result = func(*args, **kwargs)\n",
    "                mlflow.set_tag(\"Status\", \"SUCCEESS\")\n",
    "            except Exception as e:\n",
    "                mlflow.log_param(\"Exception\", e)\n",
    "                mlflow.set_tag(\"Status\", \"FAIL\")\n",
    "                raise e\n",
    "            finally:\n",
    "                mlflow.end_run()\n",
    "            return result\n",
    "        return wrapper\n",
    "    return decorator"
   ]
  },
  {
   "cell_type": "code",
   "execution_count": 7,
   "metadata": {},
   "outputs": [],
   "source": [
    "X = np.random.rand(100, 1)\n",
    "y = 1 + 2 * X + .1 * np.random.randn(100, 1)"
   ]
  },
  {
   "cell_type": "code",
   "execution_count": 8,
   "metadata": {},
   "outputs": [],
   "source": [
    "class LinearRegression(nn.Module):\n",
    "    def __init__(self):\n",
    "        super(LinearRegression, self).__init__()\n",
    "        self.linear = nn.Linear(1, 1)\n",
    "\n",
    "    def forward(self, x):\n",
    "        return self.linear(x)"
   ]
  },
  {
   "cell_type": "code",
   "execution_count": 10,
   "metadata": {},
   "outputs": [],
   "source": [
    "model = LinearRegression()\n",
    "criterion = nn.MSELoss()\n",
    "optimizer = torch.optim.SGD(model.parameters(), lr=CONFIG.LEARNING_RATE)"
   ]
  },
  {
   "cell_type": "code",
   "execution_count": 12,
   "metadata": {},
   "outputs": [],
   "source": [
    "@mlflow_run_decorator(run_name='Check Sync')\n",
    "def train_model():\n",
    "    mlflow.log_params(asdict(CONFIG))\n",
    "    \n",
    "    for epoch in range(CONFIG.EPOCHS):\n",
    "        inputs = torch.from_numpy(X.astype(np.float32))\n",
    "        labels = torch.from_numpy(y.astype(np.float32))\n",
    "\n",
    "        outputs = model(inputs)\n",
    "        loss = criterion(outputs, labels)\n",
    "        \n",
    "        optimizer.zero_grad()\n",
    "        loss.backward()\n",
    "        optimizer.step()\n",
    "\n",
    "        mlflow.log_metric('loss', loss.item(), step=epoch)\n",
    "        \n",
    "        if epoch % 100 == 0:\n",
    "            print(f'Epoch {epoch}/{CONFIG.EPOCHS}, Loss: {loss.item()}')\n",
    "    \n",
    "        sleep(0)"
   ]
  },
  {
   "cell_type": "code",
   "execution_count": 13,
   "metadata": {},
   "outputs": [
    {
     "name": "stdout",
     "output_type": "stream",
     "text": [
      "Epoch 0/1000, Loss: 3.3055307865142822\n",
      "Epoch 100/1000, Loss: 0.03637167066335678\n",
      "Epoch 200/1000, Loss: 0.011822047643363476\n",
      "Epoch 300/1000, Loss: 0.009042587131261826\n",
      "Epoch 400/1000, Loss: 0.008727899752557278\n",
      "Epoch 500/1000, Loss: 0.008692270144820213\n",
      "Epoch 600/1000, Loss: 0.008688240312039852\n",
      "Epoch 700/1000, Loss: 0.008687784895300865\n",
      "Epoch 800/1000, Loss: 0.008687730878591537\n",
      "Epoch 900/1000, Loss: 0.00868772342801094\n"
     ]
    }
   ],
   "source": [
    "train_model()"
   ]
  },
  {
   "cell_type": "code",
   "execution_count": null,
   "metadata": {},
   "outputs": [],
   "source": [
    "mlflow."
   ]
  }
 ],
 "metadata": {
  "kernelspec": {
   "display_name": "base",
   "language": "python",
   "name": "python3"
  },
  "language_info": {
   "codemirror_mode": {
    "name": "ipython",
    "version": 3
   },
   "file_extension": ".py",
   "mimetype": "text/x-python",
   "name": "python",
   "nbconvert_exporter": "python",
   "pygments_lexer": "ipython3",
   "version": "3.12.4"
  }
 },
 "nbformat": 4,
 "nbformat_minor": 2
}
