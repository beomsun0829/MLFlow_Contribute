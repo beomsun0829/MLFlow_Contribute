{
 "cells": [
  {
   "cell_type": "code",
   "execution_count": 12,
   "metadata": {},
   "outputs": [],
   "source": [
    "import sys\n",
    "import os\n",
    "sys.path.insert(0, 'D:\\\\PROGRAMMING\\\\mlflow')"
   ]
  },
  {
   "cell_type": "code",
   "execution_count": 13,
   "metadata": {},
   "outputs": [
    {
     "name": "stdout",
     "output_type": "stream",
     "text": [
      "D:\\PROGRAMMING\\mlflow\\mlflow\n"
     ]
    }
   ],
   "source": [
    "import mlflow\n",
    "import mlflow.pytorch\n",
    "from dataclasses import dataclass, asdict\n",
    "\n",
    "import torch\n",
    "import torch.nn as nn\n",
    "import numpy as np\n",
    "\n",
    "from time import sleep\n",
    "\n",
    "print(os.path.dirname(mlflow.__file__))"
   ]
  },
  {
   "cell_type": "code",
   "execution_count": 14,
   "metadata": {},
   "outputs": [],
   "source": [
    "@dataclass\n",
    "class Config:\n",
    "    EPOCHS: int = 100\n",
    "    LEARNING_RATE: int = 0.1\n",
    "\n",
    "CONFIG = Config()"
   ]
  },
  {
   "cell_type": "code",
   "execution_count": 15,
   "metadata": {},
   "outputs": [],
   "source": [
    "mlflow.set_experiment('Issue #12871')\n",
    "def mlflow_run_decorator(run_name=None):\n",
    "    def decorator(func):\n",
    "        def wrapper(*args, **kwargs):\n",
    "            mlflow.start_run(run_name=run_name)\n",
    "            try:\n",
    "                result = func(*args, **kwargs)\n",
    "                mlflow.set_tag(\"Status\", \"SUCCEESS\")\n",
    "            except Exception as e:\n",
    "                mlflow.log_param(\"Exception\", e)\n",
    "                mlflow.set_tag(\"Status\", \"FAIL\")\n",
    "                raise e\n",
    "            finally:\n",
    "                mlflow.end_run()\n",
    "            return result\n",
    "        return wrapper\n",
    "    return decorator"
   ]
  },
  {
   "cell_type": "code",
   "execution_count": 16,
   "metadata": {},
   "outputs": [],
   "source": [
    "X = np.random.rand(100, 1)\n",
    "y = 1 + 2 * X + .1 * np.random.randn(100, 1)"
   ]
  },
  {
   "cell_type": "code",
   "execution_count": 17,
   "metadata": {},
   "outputs": [],
   "source": [
    "class LinearRegression(nn.Module):\n",
    "    def __init__(self):\n",
    "        super(LinearRegression, self).__init__()\n",
    "        self.linear = nn.Linear(1, 1)\n",
    "\n",
    "    def forward(self, x):\n",
    "        return self.linear(x)"
   ]
  },
  {
   "cell_type": "code",
   "execution_count": 18,
   "metadata": {},
   "outputs": [],
   "source": [
    "model = LinearRegression()\n",
    "criterion = nn.MSELoss()\n",
    "optimizer = torch.optim.SGD(model.parameters(), lr=CONFIG.LEARNING_RATE)"
   ]
  },
  {
   "cell_type": "code",
   "execution_count": 19,
   "metadata": {},
   "outputs": [],
   "source": [
    "@mlflow_run_decorator(run_name='model save')\n",
    "def train_model():\n",
    "    mlflow.log_params(asdict(CONFIG))\n",
    "    \n",
    "    for epoch in range(CONFIG.EPOCHS):\n",
    "        inputs = torch.from_numpy(X.astype(np.float32))\n",
    "        labels = torch.from_numpy(y.astype(np.float32))\n",
    "\n",
    "        outputs = model(inputs)\n",
    "        loss = criterion(outputs, labels)\n",
    "        \n",
    "        optimizer.zero_grad()\n",
    "        loss.backward()\n",
    "        optimizer.step()\n",
    "\n",
    "        mlflow.log_metric('loss', loss.item(), step=epoch)\n",
    "        \n",
    "        if epoch % 10 == 0:\n",
    "            print(f'Epoch {epoch}/{CONFIG.EPOCHS}, Loss: {loss.item()}')\n",
    "    \n",
    "        sleep(0)\n",
    "    \n",
    "    mlflow.pytorch.log_model(model, \"Issue12871_model\")"
   ]
  },
  {
   "cell_type": "code",
   "execution_count": 20,
   "metadata": {},
   "outputs": [
    {
     "name": "stdout",
     "output_type": "stream",
     "text": [
      "Epoch 0/100, Loss: 0.881028413772583\n",
      "Epoch 10/100, Loss: 0.0946277529001236\n",
      "Epoch 20/100, Loss: 0.07073307037353516\n",
      "Epoch 30/100, Loss: 0.05438990518450737\n",
      "Epoch 40/100, Loss: 0.0423123799264431\n",
      "Epoch 50/100, Loss: 0.033384863287210464\n",
      "Epoch 60/100, Loss: 0.02678576298058033\n",
      "Epoch 70/100, Loss: 0.021907804533839226\n",
      "Epoch 80/100, Loss: 0.018302064388990402\n",
      "Epoch 90/100, Loss: 0.01563677377998829\n"
     ]
    },
    {
     "name": "stderr",
     "output_type": "stream",
     "text": [
      "2024/08/04 02:07:40 WARNING mlflow.utils.requirements_utils: Found torch version (2.3.1+cu121) contains a local version label (+cu121). MLflow logged a pip requirement for this package as 'torch==2.3.1' without the local version label to make it installable from PyPI. To specify pip requirements containing local version labels, please use `conda_env` or `pip_requirements`.\n",
      "2024/08/04 02:07:44 WARNING mlflow.utils.requirements_utils: Found torch version (2.3.1+cu121) contains a local version label (+cu121). MLflow logged a pip requirement for this package as 'torch==2.3.1' without the local version label to make it installable from PyPI. To specify pip requirements containing local version labels, please use `conda_env` or `pip_requirements`.\n",
      "2024/08/04 02:07:44 WARNING mlflow.models.model: Input example should be provided to infer model signature if the model signature is not provided when logging the model.\n"
     ]
    }
   ],
   "source": [
    "train_model()"
   ]
  },
  {
   "cell_type": "code",
   "execution_count": 21,
   "metadata": {},
   "outputs": [],
   "source": [
    "model = mlflow.pytorch.load_model('./mlruns/524980164502243114/7d5bf6dfb76f420bb11a5306ad2d2ae9/artifacts/Issue12871_model')"
   ]
  },
  {
   "cell_type": "code",
   "execution_count": 22,
   "metadata": {},
   "outputs": [
    {
     "data": {
      "text/plain": [
       "LinearRegression(\n",
       "  (linear): Linear(in_features=1, out_features=1, bias=True)\n",
       ")"
      ]
     },
     "execution_count": 22,
     "metadata": {},
     "output_type": "execute_result"
    }
   ],
   "source": [
    "model"
   ]
  }
 ],
 "metadata": {
  "kernelspec": {
   "display_name": "base",
   "language": "python",
   "name": "python3"
  },
  "language_info": {
   "codemirror_mode": {
    "name": "ipython",
    "version": 3
   },
   "file_extension": ".py",
   "mimetype": "text/x-python",
   "name": "python",
   "nbconvert_exporter": "python",
   "pygments_lexer": "ipython3",
   "version": "3.12.4"
  }
 },
 "nbformat": 4,
 "nbformat_minor": 2
}
