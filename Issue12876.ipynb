{
 "cells": [
  {
   "cell_type": "code",
   "execution_count": 1,
   "metadata": {},
   "outputs": [
    {
     "name": "stdout",
     "output_type": "stream",
     "text": [
      "D:\\PROGRAMMING\\mlflow\\mlflow\n"
     ]
    }
   ],
   "source": [
    "import sys\n",
    "import os\n",
    "sys.path.insert(0, 'D:\\\\PROGRAMMING\\\\mlflow')\n",
    "\n",
    "import mlflow\n",
    "print(os.path.dirname(mlflow.__file__))"
   ]
  },
  {
   "cell_type": "code",
   "execution_count": 2,
   "metadata": {},
   "outputs": [],
   "source": [
    "import numpy as np\n",
    "\n",
    "x = np.array(1.)\n",
    "y = np.array(2.)\n",
    "\n",
    "with mlflow.start_run():\n",
    "    mlflow.log_metrics(metrics={'x': x, 'y': y}, step=1)\n",
    "\n",
    "    mlflow.log_metric(key='x', value=x, step=1)\n",
    "    mlflow.log_metric(key='y', value=y, step=1)"
   ]
  }
 ],
 "metadata": {
  "kernelspec": {
   "display_name": "Python 3",
   "language": "python",
   "name": "python3"
  },
  "language_info": {
   "codemirror_mode": {
    "name": "ipython",
    "version": 3
   },
   "file_extension": ".py",
   "mimetype": "text/x-python",
   "name": "python",
   "nbconvert_exporter": "python",
   "pygments_lexer": "ipython3",
   "version": "3.12.4"
  }
 },
 "nbformat": 4,
 "nbformat_minor": 2
}
